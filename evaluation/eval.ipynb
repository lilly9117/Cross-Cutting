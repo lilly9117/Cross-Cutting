{
 "cells": [
  {
   "cell_type": "code",
   "execution_count": 33,
   "metadata": {},
   "outputs": [],
   "source": [
    "from sewar.full_ref import ssim, psnr\n",
    "import cv2\n",
    "import os\n",
    "import matplotlib.pyplot as plt"
   ]
  },
  {
   "cell_type": "code",
   "execution_count": 17,
   "metadata": {},
   "outputs": [],
   "source": [
    "video = \"eval video/face/wannabe_face_keypoints.mp4\"\n",
    "img_name = \"wannabe\"\n",
    "output_dir = \"img/face/wannabe\""
   ]
  },
  {
   "cell_type": "code",
   "execution_count": 18,
   "metadata": {},
   "outputs": [],
   "source": [
    "vidcap = cv2.VideoCapture(video)\n",
    "count = 0\n",
    "while vidcap.isOpened():\n",
    "    success, image = vidcap.read()\n",
    "    if success:\n",
    "        if count % 10 == 0:\n",
    "            cv2.imwrite(os.path.join(output_dir, 'wannabe %d.jpeg') % (count), image)\n",
    "        count += 1\n",
    "    else:\n",
    "        break\n",
    "cv2.destroyAllWindows()\n",
    "vidcap.release()"
   ]
  },
  {
   "cell_type": "code",
   "execution_count": 28,
   "metadata": {},
   "outputs": [],
   "source": [
    "face_wannabe_ssim = []\n",
    "face_fiesta_ssim = []\n",
    "face_fifth_season_ssim = []\n",
    "\n",
    "face_wannabe_psnr = []\n",
    "face_fiesta_psnr = []\n",
    "face_fifth_season_psnr = []"
   ]
  },
  {
   "cell_type": "code",
   "execution_count": 49,
   "metadata": {},
   "outputs": [],
   "source": [
    "img_dir = \"img/face/fiesta\""
   ]
  },
  {
   "cell_type": "code",
   "execution_count": 52,
   "metadata": {},
   "outputs": [],
   "source": [
    "a = sorted(os.listdir(img_dir))"
   ]
  },
  {
   "cell_type": "code",
   "execution_count": 56,
   "metadata": {},
   "outputs": [],
   "source": [
    "face_fiesta_psnr = []\n",
    "face_fiesta_ssim = []"
   ]
  },
  {
   "cell_type": "code",
   "execution_count": null,
   "metadata": {},
   "outputs": [
    {
     "name": "stdout",
     "output_type": "stream",
     "text": [
      "now tring 0\n",
      "now tring 50\n",
      "now tring 100\n",
      "now tring 150\n"
     ]
    }
   ],
   "source": [
    "for i in range(len(a) - 1):\n",
    "    if i % 50 == 0:\n",
    "        print(\"now tring %d\" % (i))\n",
    "    img1 = cv2.imread(img_dir + '/' + a[i])\n",
    "    img2 = cv2.imread(img_dir + '/' + a[i+1])\n",
    "    face_fiesta_ssim.append(ssim(img1, img2))\n",
    "    face_fiesta_psnr.append(psnr(img1, img2))"
   ]
  },
  {
   "cell_type": "code",
   "execution_count": null,
   "metadata": {},
   "outputs": [],
   "source": [
    "plt.plot([i for i in range(len(face_fiesta_ssim))], face_fiesta_ssim)\n",
    "plt.show()"
   ]
  },
  {
   "cell_type": "code",
   "execution_count": null,
   "metadata": {},
   "outputs": [],
   "source": [
    "plt.plot([i for i in range(len(face_fiesta_psnr))], face_fiesta_psnr)\n",
    "plt.show()"
   ]
  },
  {
   "cell_type": "code",
   "execution_count": null,
   "metadata": {},
   "outputs": [],
   "source": [
    "f = open('face_fiesta_psnr.txt', 'w')\n",
    "f.write(str(face_fiesta_psnr))\n",
    "f.close()"
   ]
  },
  {
   "cell_type": "code",
   "execution_count": null,
   "metadata": {},
   "outputs": [],
   "source": [
    "f = open('face_fiesta_ssim.txt', 'w')\n",
    "f.write(str(face_fiesta_ssim))\n",
    "f.close()"
   ]
  },
  {
   "cell_type": "code",
   "execution_count": null,
   "metadata": {},
   "outputs": [],
   "source": []
  }
 ],
 "metadata": {
  "kernelspec": {
   "display_name": "Python 3",
   "language": "python",
   "name": "python3"
  },
  "language_info": {
   "codemirror_mode": {
    "name": "ipython",
    "version": 3
   },
   "file_extension": ".py",
   "mimetype": "text/x-python",
   "name": "python",
   "nbconvert_exporter": "python",
   "pygments_lexer": "ipython3",
   "version": "3.7.6"
  }
 },
 "nbformat": 4,
 "nbformat_minor": 4
}
